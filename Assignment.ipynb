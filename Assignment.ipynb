{
 "cells": [
  {
   "cell_type": "markdown",
   "id": "9f2b35c5-0f03-42e4-a07c-e9c686fe5598",
   "metadata": {},
   "source": [
    "# **Final Project**\n",
    "<b> Course: </b> AI4PH, 2024 <br>\n",
    "<b> Date: </b> 2024-02 <br>\n",
    "<br>\n",
    "\n",
    "<h5> <b> Basic Features of Data Analysis Project:</b></h5>\n",
    "<b> Dataset: </b> Confirmed positive cases of COVID-19 in Ontario, February 15, 2024"
   ]
  },
  {
   "cell_type": "code",
   "execution_count": 1,
   "id": "b8b429b5-417d-439c-ae5d-7de659110b29",
   "metadata": {},
   "outputs": [],
   "source": [
    "#Code for assignment\n"
   ]
  },
  {
   "cell_type": "code",
   "execution_count": 2,
   "id": "b38f5250-125c-4865-be8b-26c97a8e61c9",
   "metadata": {},
   "outputs": [],
   "source": []
  },
  {
   "cell_type": "code",
   "execution_count": null,
   "id": "a214caa6-8603-4c34-8829-b7e60c809eae",
   "metadata": {},
   "outputs": [],
   "source": []
  }
 ],
 "metadata": {
  "kernelspec": {
   "display_name": "Python 3 (ipykernel)",
   "language": "python",
   "name": "python3"
  },
  "language_info": {
   "codemirror_mode": {
    "name": "ipython",
    "version": 3
   },
   "file_extension": ".py",
   "mimetype": "text/x-python",
   "name": "python",
   "nbconvert_exporter": "python",
   "pygments_lexer": "ipython3",
   "version": "3.12.2"
  }
 },
 "nbformat": 4,
 "nbformat_minor": 5
}

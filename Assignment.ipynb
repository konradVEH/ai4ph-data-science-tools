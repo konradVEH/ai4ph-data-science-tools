{
 "cells": [
  {
   "cell_type": "markdown",
   "id": "9f2b35c5-0f03-42e4-a07c-e9c686fe5598",
   "metadata": {},
   "source": [
    "# **Final Project**\n",
    "<b> Course: </b> AI4PH, 2024 <br>\n",
    "<b> Date: </b> 2024-02 <br>\n",
    "<br>\n",
    "\n",
    "<h5> <b> Basic Features of Data Analysis Project:</b></h5>\n",
    "<b> Dataset: </b> Confirmed positive cases of COVID-19 in Ontario, February 15, 2024"
   ]
  },
  {
   "cell_type": "code",
   "execution_count": 15,
   "id": "b8b429b5-417d-439c-ae5d-7de659110b29",
   "metadata": {},
   "outputs": [
    {
     "ename": "ModuleNotFoundError",
     "evalue": "No module named 'pandas'",
     "output_type": "error",
     "traceback": [
      "\u001b[1;31m---------------------------------------------------------------------------\u001b[0m",
      "\u001b[1;31mModuleNotFoundError\u001b[0m                       Traceback (most recent call last)",
      "Cell \u001b[1;32mIn[15], line 3\u001b[0m\n\u001b[0;32m      1\u001b[0m \u001b[38;5;66;03m#Load Packages\u001b[39;00m\n\u001b[1;32m----> 3\u001b[0m \u001b[38;5;28;01mimport\u001b[39;00m \u001b[38;5;21;01mpandas\u001b[39;00m \u001b[38;5;28;01mas\u001b[39;00m \u001b[38;5;21;01mpd\u001b[39;00m\n\u001b[0;32m      4\u001b[0m \u001b[38;5;28;01mimport\u001b[39;00m \u001b[38;5;21;01mnumpy\u001b[39;00m \u001b[38;5;28;01mas\u001b[39;00m \u001b[38;5;21;01mnp\u001b[39;00m\n",
      "\u001b[1;31mModuleNotFoundError\u001b[0m: No module named 'pandas'"
     ]
    }
   ],
   "source": [
    "#Load Packages\n",
    "\n",
    "import pandas as pd\n",
    "import numpy as np"
   ]
  },
  {
   "cell_type": "code",
   "execution_count": null,
   "id": "b38f5250-125c-4865-be8b-26c97a8e61c9",
   "metadata": {},
   "outputs": [],
   "source": [
    "\n",
    "filename = 'covid19cases2024.csv'\n",
    "all_cases = pd.read_csv(filename)"
   ]
  },
  {
   "cell_type": "code",
   "execution_count": null,
   "id": "a214caa6-8603-4c34-8829-b7e60c809eae",
   "metadata": {},
   "outputs": [],
   "source": []
  }
 ],
 "metadata": {
  "kernelspec": {
   "display_name": "Python 3 (ipykernel)",
   "language": "python",
   "name": "python3"
  },
  "language_info": {
   "codemirror_mode": {
    "name": "ipython",
    "version": 3
   },
   "file_extension": ".py",
   "mimetype": "text/x-python",
   "name": "python",
   "nbconvert_exporter": "python",
   "pygments_lexer": "ipython3",
   "version": "3.12.2"
  }
 },
 "nbformat": 4,
 "nbformat_minor": 5
}
